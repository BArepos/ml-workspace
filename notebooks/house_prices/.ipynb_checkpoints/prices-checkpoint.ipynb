{
 "cells": [
  {
   "cell_type": "code",
   "execution_count": 31,
   "id": "fdbb73a0-cae9-4740-ada4-3d9e138d14a4",
   "metadata": {
    "tags": []
   },
   "outputs": [],
   "source": [
    "import pandas as pd\n",
    "import xgboost as xgb\n",
    "import os, glob\n",
    "import pandas as pd  \n",
    "import numpy as np\n",
    "import matplotlib.pyplot as plt"
   ]
  },
  {
   "cell_type": "code",
   "execution_count": 2,
   "id": "87ff2435-b49f-423c-ba6d-10acb40cf987",
   "metadata": {
    "tags": []
   },
   "outputs": [
    {
     "name": "stdout",
     "output_type": "stream",
     "text": [
      "<class 'pandas.core.frame.DataFrame'>\n",
      "RangeIndex: 1460 entries, 0 to 1459\n",
      "Data columns (total 81 columns):\n",
      " #   Column         Non-Null Count  Dtype  \n",
      "---  ------         --------------  -----  \n",
      " 0   Id             1460 non-null   int64  \n",
      " 1   MSSubClass     1460 non-null   int64  \n",
      " 2   MSZoning       1460 non-null   object \n",
      " 3   LotFrontage    1201 non-null   float64\n",
      " 4   LotArea        1460 non-null   int64  \n",
      " 5   Street         1460 non-null   object \n",
      " 6   Alley          91 non-null     object \n",
      " 7   LotShape       1460 non-null   object \n",
      " 8   LandContour    1460 non-null   object \n",
      " 9   Utilities      1460 non-null   object \n",
      " 10  LotConfig      1460 non-null   object \n",
      " 11  LandSlope      1460 non-null   object \n",
      " 12  Neighborhood   1460 non-null   object \n",
      " 13  Condition1     1460 non-null   object \n",
      " 14  Condition2     1460 non-null   object \n",
      " 15  BldgType       1460 non-null   object \n",
      " 16  HouseStyle     1460 non-null   object \n",
      " 17  OverallQual    1460 non-null   int64  \n",
      " 18  OverallCond    1460 non-null   int64  \n",
      " 19  YearBuilt      1460 non-null   int64  \n",
      " 20  YearRemodAdd   1460 non-null   int64  \n",
      " 21  RoofStyle      1460 non-null   object \n",
      " 22  RoofMatl       1460 non-null   object \n",
      " 23  Exterior1st    1460 non-null   object \n",
      " 24  Exterior2nd    1460 non-null   object \n",
      " 25  MasVnrType     588 non-null    object \n",
      " 26  MasVnrArea     1452 non-null   float64\n",
      " 27  ExterQual      1460 non-null   object \n",
      " 28  ExterCond      1460 non-null   object \n",
      " 29  Foundation     1460 non-null   object \n",
      " 30  BsmtQual       1423 non-null   object \n",
      " 31  BsmtCond       1423 non-null   object \n",
      " 32  BsmtExposure   1422 non-null   object \n",
      " 33  BsmtFinType1   1423 non-null   object \n",
      " 34  BsmtFinSF1     1460 non-null   int64  \n",
      " 35  BsmtFinType2   1422 non-null   object \n",
      " 36  BsmtFinSF2     1460 non-null   int64  \n",
      " 37  BsmtUnfSF      1460 non-null   int64  \n",
      " 38  TotalBsmtSF    1460 non-null   int64  \n",
      " 39  Heating        1460 non-null   object \n",
      " 40  HeatingQC      1460 non-null   object \n",
      " 41  CentralAir     1460 non-null   object \n",
      " 42  Electrical     1459 non-null   object \n",
      " 43  1stFlrSF       1460 non-null   int64  \n",
      " 44  2ndFlrSF       1460 non-null   int64  \n",
      " 45  LowQualFinSF   1460 non-null   int64  \n",
      " 46  GrLivArea      1460 non-null   int64  \n",
      " 47  BsmtFullBath   1460 non-null   int64  \n",
      " 48  BsmtHalfBath   1460 non-null   int64  \n",
      " 49  FullBath       1460 non-null   int64  \n",
      " 50  HalfBath       1460 non-null   int64  \n",
      " 51  BedroomAbvGr   1460 non-null   int64  \n",
      " 52  KitchenAbvGr   1460 non-null   int64  \n",
      " 53  KitchenQual    1460 non-null   object \n",
      " 54  TotRmsAbvGrd   1460 non-null   int64  \n",
      " 55  Functional     1460 non-null   object \n",
      " 56  Fireplaces     1460 non-null   int64  \n",
      " 57  FireplaceQu    770 non-null    object \n",
      " 58  GarageType     1379 non-null   object \n",
      " 59  GarageYrBlt    1379 non-null   float64\n",
      " 60  GarageFinish   1379 non-null   object \n",
      " 61  GarageCars     1460 non-null   int64  \n",
      " 62  GarageArea     1460 non-null   int64  \n",
      " 63  GarageQual     1379 non-null   object \n",
      " 64  GarageCond     1379 non-null   object \n",
      " 65  PavedDrive     1460 non-null   object \n",
      " 66  WoodDeckSF     1460 non-null   int64  \n",
      " 67  OpenPorchSF    1460 non-null   int64  \n",
      " 68  EnclosedPorch  1460 non-null   int64  \n",
      " 69  3SsnPorch      1460 non-null   int64  \n",
      " 70  ScreenPorch    1460 non-null   int64  \n",
      " 71  PoolArea       1460 non-null   int64  \n",
      " 72  PoolQC         7 non-null      object \n",
      " 73  Fence          281 non-null    object \n",
      " 74  MiscFeature    54 non-null     object \n",
      " 75  MiscVal        1460 non-null   int64  \n",
      " 76  MoSold         1460 non-null   int64  \n",
      " 77  YrSold         1460 non-null   int64  \n",
      " 78  SaleType       1460 non-null   object \n",
      " 79  SaleCondition  1460 non-null   object \n",
      " 80  SalePrice      1460 non-null   int64  \n",
      "dtypes: float64(3), int64(35), object(43)\n",
      "memory usage: 924.0+ KB\n"
     ]
    }
   ],
   "source": [
    "data=pd.read_csv('train.csv')\n",
    "data.info()"
   ]
  },
  {
   "cell_type": "code",
   "execution_count": 7,
   "id": "1fec6209-1428-4b42-9fd5-5f46c2ab8024",
   "metadata": {},
   "outputs": [
    {
     "data": {
      "text/plain": [
       "Index(['Id', 'MSSubClass', 'MSZoning', 'LotFrontage', 'LotArea', 'Street',\n",
       "       'Alley', 'LotShape', 'LandContour', 'Utilities', 'LotConfig',\n",
       "       'LandSlope', 'Neighborhood', 'Condition1', 'Condition2', 'BldgType',\n",
       "       'HouseStyle', 'OverallQual', 'OverallCond', 'YearBuilt', 'YearRemodAdd',\n",
       "       'RoofStyle', 'RoofMatl', 'Exterior1st', 'Exterior2nd', 'MasVnrType',\n",
       "       'MasVnrArea', 'ExterQual', 'ExterCond', 'Foundation', 'BsmtQual',\n",
       "       'BsmtCond', 'BsmtExposure', 'BsmtFinType1', 'BsmtFinSF1',\n",
       "       'BsmtFinType2', 'BsmtFinSF2', 'BsmtUnfSF', 'TotalBsmtSF', 'Heating',\n",
       "       'HeatingQC', 'CentralAir', 'Electrical', '1stFlrSF', '2ndFlrSF',\n",
       "       'LowQualFinSF', 'GrLivArea', 'BsmtFullBath', 'BsmtHalfBath', 'FullBath',\n",
       "       'HalfBath', 'BedroomAbvGr', 'KitchenAbvGr', 'KitchenQual',\n",
       "       'TotRmsAbvGrd', 'Functional', 'Fireplaces', 'FireplaceQu', 'GarageType',\n",
       "       'GarageYrBlt', 'GarageFinish', 'GarageCars', 'GarageArea', 'GarageQual',\n",
       "       'GarageCond', 'PavedDrive', 'WoodDeckSF', 'OpenPorchSF',\n",
       "       'EnclosedPorch', '3SsnPorch', 'ScreenPorch', 'PoolArea', 'PoolQC',\n",
       "       'Fence', 'MiscFeature', 'MiscVal', 'MoSold', 'YrSold', 'SaleType',\n",
       "       'SaleCondition', 'SalePrice'],\n",
       "      dtype='object')"
      ]
     },
     "execution_count": 7,
     "metadata": {},
     "output_type": "execute_result"
    }
   ],
   "source": [
    "data.columns"
   ]
  },
  {
   "cell_type": "code",
   "execution_count": 54,
   "id": "ab0607cb-5baf-4712-88af-b5451305a524",
   "metadata": {
    "tags": []
   },
   "outputs": [],
   "source": [
    "data_cols=['MSZoning','LotArea','OverallCond','YearBuilt','BedroomAbvGr','FullBath','GarageCars','SalePrice']"
   ]
  },
  {
   "cell_type": "code",
   "execution_count": 58,
   "id": "0d760e14-117a-4291-9354-ea46aee17ced",
   "metadata": {
    "tags": []
   },
   "outputs": [
    {
     "data": {
      "text/plain": [
       "0    208500\n",
       "1    181500\n",
       "2    223500\n",
       "3    140000\n",
       "4    250000\n",
       "Name: SalePrice, dtype: int64"
      ]
     },
     "execution_count": 58,
     "metadata": {},
     "output_type": "execute_result"
    }
   ],
   "source": [
    "df_train=data[data_cols]\n",
    "target=data[\"SalePrice\"]\n",
    "target.head()"
   ]
  },
  {
   "cell_type": "code",
   "execution_count": 59,
   "id": "2d6d480d-5b9a-47d8-86e1-382859285cfa",
   "metadata": {
    "tags": []
   },
   "outputs": [
    {
     "data": {
      "text/html": [
       "<div>\n",
       "<style scoped>\n",
       "    .dataframe tbody tr th:only-of-type {\n",
       "        vertical-align: middle;\n",
       "    }\n",
       "\n",
       "    .dataframe tbody tr th {\n",
       "        vertical-align: top;\n",
       "    }\n",
       "\n",
       "    .dataframe thead th {\n",
       "        text-align: right;\n",
       "    }\n",
       "</style>\n",
       "<table border=\"1\" class=\"dataframe\">\n",
       "  <thead>\n",
       "    <tr style=\"text-align: right;\">\n",
       "      <th></th>\n",
       "      <th>MSZoning</th>\n",
       "      <th>LotArea</th>\n",
       "      <th>OverallCond</th>\n",
       "      <th>YearBuilt</th>\n",
       "      <th>BedroomAbvGr</th>\n",
       "      <th>FullBath</th>\n",
       "      <th>GarageCars</th>\n",
       "      <th>SalePrice</th>\n",
       "    </tr>\n",
       "  </thead>\n",
       "  <tbody>\n",
       "    <tr>\n",
       "      <th>0</th>\n",
       "      <td>RL</td>\n",
       "      <td>8450</td>\n",
       "      <td>5</td>\n",
       "      <td>2003</td>\n",
       "      <td>3</td>\n",
       "      <td>2</td>\n",
       "      <td>2</td>\n",
       "      <td>208500</td>\n",
       "    </tr>\n",
       "    <tr>\n",
       "      <th>1</th>\n",
       "      <td>RL</td>\n",
       "      <td>9600</td>\n",
       "      <td>8</td>\n",
       "      <td>1976</td>\n",
       "      <td>3</td>\n",
       "      <td>2</td>\n",
       "      <td>2</td>\n",
       "      <td>181500</td>\n",
       "    </tr>\n",
       "    <tr>\n",
       "      <th>2</th>\n",
       "      <td>RL</td>\n",
       "      <td>11250</td>\n",
       "      <td>5</td>\n",
       "      <td>2001</td>\n",
       "      <td>3</td>\n",
       "      <td>2</td>\n",
       "      <td>2</td>\n",
       "      <td>223500</td>\n",
       "    </tr>\n",
       "    <tr>\n",
       "      <th>3</th>\n",
       "      <td>RL</td>\n",
       "      <td>9550</td>\n",
       "      <td>5</td>\n",
       "      <td>1915</td>\n",
       "      <td>3</td>\n",
       "      <td>1</td>\n",
       "      <td>3</td>\n",
       "      <td>140000</td>\n",
       "    </tr>\n",
       "    <tr>\n",
       "      <th>4</th>\n",
       "      <td>RL</td>\n",
       "      <td>14260</td>\n",
       "      <td>5</td>\n",
       "      <td>2000</td>\n",
       "      <td>4</td>\n",
       "      <td>2</td>\n",
       "      <td>3</td>\n",
       "      <td>250000</td>\n",
       "    </tr>\n",
       "  </tbody>\n",
       "</table>\n",
       "</div>"
      ],
      "text/plain": [
       "  MSZoning  LotArea  OverallCond  YearBuilt  BedroomAbvGr  FullBath  \\\n",
       "0       RL     8450            5       2003             3         2   \n",
       "1       RL     9600            8       1976             3         2   \n",
       "2       RL    11250            5       2001             3         2   \n",
       "3       RL     9550            5       1915             3         1   \n",
       "4       RL    14260            5       2000             4         2   \n",
       "\n",
       "   GarageCars  SalePrice  \n",
       "0           2     208500  \n",
       "1           2     181500  \n",
       "2           2     223500  \n",
       "3           3     140000  \n",
       "4           3     250000  "
      ]
     },
     "execution_count": 59,
     "metadata": {},
     "output_type": "execute_result"
    }
   ],
   "source": [
    "df_train.head()"
   ]
  },
  {
   "cell_type": "code",
   "execution_count": 60,
   "id": "f475d327-9d68-47a0-8493-2ef3367b569b",
   "metadata": {},
   "outputs": [
    {
     "name": "stdout",
     "output_type": "stream",
     "text": [
      "NUMERICAL: ['BedroomAbvGr', 'FullBath', 'GarageCars', 'LotArea', 'OverallCond', 'YearBuilt']\n",
      "CATEGORICAL: ['MSZoning']\n"
     ]
    }
   ],
   "source": [
    "# get column types\n",
    "col_counts = dict(df_train.count(axis=0))\n",
    "col_types = {c: d for c, d in dict(df_train.dtypes).items() if col_counts[c] > 1000 and c != 'SalePrice'}\n",
    "_is_num = lambda x: x in (int, float)\n",
    "# separate them\n",
    "cols_numerical = sorted([col for col, dtp in col_types.items() if _is_num(dtp)])\n",
    "cols_string = sorted([col for col, dtp in col_types.items() if not _is_num(dtp)])\n",
    "print(f\"NUMERICAL: {cols_numerical}\")\n",
    "print(f\"CATEGORICAL: {cols_string}\")"
   ]
  },
  {
   "cell_type": "code",
   "execution_count": 61,
   "id": "7ef00cbc-6a0c-4cbd-aa50-e0b6238badb9",
   "metadata": {},
   "outputs": [
    {
     "data": {
      "image/png": "[encoded data removed]",
      "text/plain": [
       "<Figure size 1200x600 with 6 Axes>"
      ]
     },
     "metadata": {},
     "output_type": "display_data"
    }
   ],
   "source": [
    "import math\n",
    "\n",
    "num_of_rows = math.ceil(len(cols_numerical) / 2)\n",
    "fig, axarr = plt.subplots(ncols=2, nrows=num_of_rows, figsize=(12, 2 * num_of_rows))\n",
    "for i, col in enumerate(cols_numerical):\n",
    "    ax = axarr[i // 2, i % 2] # represents one subplot in the grid.\n",
    "    #  i // 2 and i % 2 expressions are used to calculate the row and column index of the subplot for the current column.\n",
    "    df_train[col].plot.hist(ax=ax, bins=80, logy=True, xlabel=col, grid=True)\n",
    "fig.tight_layout() # to ensure that all of the subplots are properly spaced."
   ]
  },
  {
   "cell_type": "code",
   "execution_count": 50,
   "id": "d6095476-3e08-4ab5-98ba-b23ea90860c4",
   "metadata": {},
   "outputs": [
    {
     "name": "stdout",
     "output_type": "stream",
     "text": [
      "nb_pies=1 | nb_rows=1\n",
      "(2,)\n"
     ]
    },
    {
     "ename": "IndexError",
     "evalue": "too many indices for array: array is 1-dimensional, but 2 were indexed",
     "output_type": "error",
     "traceback": [
      "\u001b[0;31m---------------------------------------------------------------------------\u001b[0m",
      "\u001b[0;31mIndexError\u001b[0m                                Traceback (most recent call last)",
      "Cell \u001b[0;32mIn[50], line 19\u001b[0m\n\u001b[1;32m     16\u001b[0m     i_0 \u001b[38;5;241m+\u001b[39m\u001b[38;5;241m=\u001b[39m \u001b[38;5;241m1\u001b[39m\n\u001b[1;32m     18\u001b[0m \u001b[38;5;28;01melse\u001b[39;00m:\n\u001b[0;32m---> 19\u001b[0m     \u001b[43maxarr\u001b[49m\u001b[43m[\u001b[49m\u001b[43mi_1\u001b[49m\u001b[43m,\u001b[49m\u001b[43m \u001b[49m\u001b[38;5;241;43m1\u001b[39;49m\u001b[43m]\u001b[49m\u001b[38;5;241m.\u001b[39mbar(unique_values, counts)\n\u001b[1;32m     20\u001b[0m     axarr[i_1, \u001b[38;5;241m1\u001b[39m]\u001b[38;5;241m.\u001b[39mset_xlabel(col)\n\u001b[1;32m     21\u001b[0m     axarr[i_1, \u001b[38;5;241m1\u001b[39m]\u001b[38;5;241m.\u001b[39mgrid()\n",
      "\u001b[0;31mIndexError\u001b[0m: too many indices for array: array is 1-dimensional, but 2 were indexed"
     ]
    },
    {
     "data": {
      "image/png": "[encoded data removed]",
      "text/plain": [
       "<Figure size 800x300 with 2 Axes>"
      ]
     },
     "metadata": {},
     "output_type": "display_data"
    }
   ],
   "source": [
    "nb_pies = 1 #sum([len(df_train[c].dropna().unique()) < 5 for c in cols_string]) # is the maximum of the number of columns with less than 5 unique values \n",
    "nb_rows = max([nb_pies, len(cols_string) - nb_pies])\n",
    "print(f\"{nb_pies=} | {nb_rows=}\")\n",
    "\n",
    "fig, axarr = plt.subplots(ncols=2, nrows=nb_rows, figsize=(8, 3 * nb_rows))\n",
    "print(axarr.shape)\n",
    "i_0, i_1 = 0, 0\n",
    "for col in cols_string:\n",
    "    vals = df_train[col].values\n",
    "    vals = vals[~pd.isnull(vals)] # filtered to remove any missing values.\n",
    "    unique_values, counts = np.unique(vals, return_counts=True) # contain the unique values and counts of the column, respectively.\n",
    "    \n",
    "    if len(unique_values) < 5:\n",
    "        axarr[i_0, 0].pie(counts, labels=unique_values, autopct='%.0f%%')\n",
    "        axarr[i_0, 0].set_xlabel(col)\n",
    "        i_0 += 1\n",
    "        \n",
    "    else:\n",
    "        axarr[i_1, 1].bar(unique_values, counts)\n",
    "        axarr[i_1, 1].set_xlabel(col)\n",
    "        axarr[i_1, 1].grid()\n",
    "        axarr[i_1, 1].tick_params(axis='x', labelrotation=60)\n",
    "        #plt.xticks(rotation=45, ha='center')\n",
    "        i_1 += 1\n",
    "fig.tight_layout()"
   ]
  },
  {
   "cell_type": "code",
   "execution_count": 52,
   "id": "ee53b11d-5a93-472e-8c99-3625fa848ff6",
   "metadata": {},
   "outputs": [],
   "source": [
    "from sklearn.preprocessing import LabelEncoder, StandardScaler\n",
    "\n",
    "class MultiColumnEncoderScaler:\n",
    "    encoder_cls = LabelEncoder #  use for categorical features.\n",
    "    scaler_cls = StandardScaler # The scaler class to use for numerical features. By default, the StandardScaler class is used.\n",
    "    \n",
    "    def __init__(self, skip_columns = (\"Id\", \"SalePrice\")):\n",
    "        self.skip_columns = skip_columns\n",
    "        self.bank = {} # dictionary of encoder and scaler objects.\n",
    "\n",
    "    def fit(self, X, y=None):\n",
    "        col_types = {c: d for c, d in dict(X.dtypes).items()} # dictionary of column names and data types.\n",
    "        for col, dtp in col_types.items():\n",
    "            if col in self.skip_columns:\n",
    "                continue\n",
    "            if _is_num(dtp): # If the column is a numerical data type, the StandardScaler class is used to create an Scaler object.\n",
    "                self.bank[col] = self.scaler_cls().fit(X[[col]].values)\n",
    "            else:\n",
    "                self.bank[col] = self.encoder_cls().fit(X[col].values)\n",
    "        return self\n",
    "\n",
    "    def transform(self, X):\n",
    "        X_ = X.copy()\n",
    "        for col in X.columns:\n",
    "            if col in self.skip_columns:\n",
    "                continue\n",
    "            bank_ = self.bank[col]\n",
    "            if isinstance(bank_, self.encoder_cls): # If the encoder object is an instance of the LabelEncoder class, \n",
    "                X_[col] = X_[col].fillna(bank_.classes_[0])\n",
    "                X_[col] = bank_.transform(X_[col].values) # The column data is encoded using the encoder object.\n",
    "            else:\n",
    "                X_[col] = X_[col].fillna(X_[col].median())\n",
    "                X_[col] = bank_.transform(X_[[col]].values)[:, 0]\n",
    "        return X_\n",
    "\n",
    "    def fit_transform(self, X, y=None):\n",
    "        return self.fit(X).transform(X)"
   ]
  },
  {
   "cell_type": "code",
   "execution_count": 62,
   "id": "7366ff28-4bf4-4654-a42f-2a5a9e9b06cc",
   "metadata": {},
   "outputs": [
    {
     "data": {
      "text/html": [
       "<div>\n",
       "<style scoped>\n",
       "    .dataframe tbody tr th:only-of-type {\n",
       "        vertical-align: middle;\n",
       "    }\n",
       "\n",
       "    .dataframe tbody tr th {\n",
       "        vertical-align: top;\n",
       "    }\n",
       "\n",
       "    .dataframe thead th {\n",
       "        text-align: right;\n",
       "    }\n",
       "</style>\n",
       "<table border=\"1\" class=\"dataframe\">\n",
       "  <thead>\n",
       "    <tr style=\"text-align: right;\">\n",
       "      <th></th>\n",
       "      <th>MSZoning</th>\n",
       "      <th>LotArea</th>\n",
       "      <th>OverallCond</th>\n",
       "      <th>YearBuilt</th>\n",
       "      <th>BedroomAbvGr</th>\n",
       "      <th>FullBath</th>\n",
       "      <th>GarageCars</th>\n",
       "      <th>SalePrice</th>\n",
       "    </tr>\n",
       "  </thead>\n",
       "  <tbody>\n",
       "    <tr>\n",
       "      <th>0</th>\n",
       "      <td>3</td>\n",
       "      <td>-0.207142</td>\n",
       "      <td>-0.517200</td>\n",
       "      <td>1.050994</td>\n",
       "      <td>0.163779</td>\n",
       "      <td>0.789741</td>\n",
       "      <td>0.311725</td>\n",
       "      <td>208500</td>\n",
       "    </tr>\n",
       "    <tr>\n",
       "      <th>1</th>\n",
       "      <td>3</td>\n",
       "      <td>-0.091886</td>\n",
       "      <td>2.179628</td>\n",
       "      <td>0.156734</td>\n",
       "      <td>0.163779</td>\n",
       "      <td>0.789741</td>\n",
       "      <td>0.311725</td>\n",
       "      <td>181500</td>\n",
       "    </tr>\n",
       "    <tr>\n",
       "      <th>2</th>\n",
       "      <td>3</td>\n",
       "      <td>0.073480</td>\n",
       "      <td>-0.517200</td>\n",
       "      <td>0.984752</td>\n",
       "      <td>0.163779</td>\n",
       "      <td>0.789741</td>\n",
       "      <td>0.311725</td>\n",
       "      <td>223500</td>\n",
       "    </tr>\n",
       "    <tr>\n",
       "      <th>3</th>\n",
       "      <td>3</td>\n",
       "      <td>-0.096897</td>\n",
       "      <td>-0.517200</td>\n",
       "      <td>-1.863632</td>\n",
       "      <td>0.163779</td>\n",
       "      <td>-1.026041</td>\n",
       "      <td>1.650307</td>\n",
       "      <td>140000</td>\n",
       "    </tr>\n",
       "    <tr>\n",
       "      <th>4</th>\n",
       "      <td>3</td>\n",
       "      <td>0.375148</td>\n",
       "      <td>-0.517200</td>\n",
       "      <td>0.951632</td>\n",
       "      <td>1.390023</td>\n",
       "      <td>0.789741</td>\n",
       "      <td>1.650307</td>\n",
       "      <td>250000</td>\n",
       "    </tr>\n",
       "  </tbody>\n",
       "</table>\n",
       "</div>"
      ],
      "text/plain": [
       "   MSZoning   LotArea  OverallCond  YearBuilt  BedroomAbvGr  FullBath  \\\n",
       "0         3 -0.207142    -0.517200   1.050994      0.163779  0.789741   \n",
       "1         3 -0.091886     2.179628   0.156734      0.163779  0.789741   \n",
       "2         3  0.073480    -0.517200   0.984752      0.163779  0.789741   \n",
       "3         3 -0.096897    -0.517200  -1.863632      0.163779 -1.026041   \n",
       "4         3  0.375148    -0.517200   0.951632      1.390023  0.789741   \n",
       "\n",
       "   GarageCars  SalePrice  \n",
       "0    0.311725     208500  \n",
       "1    0.311725     181500  \n",
       "2    0.311725     223500  \n",
       "3    1.650307     140000  \n",
       "4    1.650307     250000  "
      ]
     },
     "metadata": {},
     "output_type": "display_data"
    }
   ],
   "source": [
    "preproc = MultiColumnEncoderScaler()\n",
    "df = preproc.fit_transform(df_train)\n",
    "display(df.head())"
   ]
  },
  {
   "cell_type": "code",
   "execution_count": 64,
   "id": "51bb6b4f-bfc9-4c39-a151-949ebb9feefd",
   "metadata": {},
   "outputs": [
    {
     "name": "stdout",
     "output_type": "stream",
     "text": [
      "data shape: (1460, 8) | targets: (1460,)\n"
     ]
    }
   ],
   "source": [
    "from sklearn.model_selection import train_test_split\n",
    "TRAIN_FEATURES = cols_numerical + cols_string\n",
    "TEST_TARGET = \"SalePrice\"\n",
    "print(f\"data shape: {df.shape} | targets: {df_train[TEST_TARGET].values.shape}\")\n",
    "X_train, X_valid, y_train, y_valid = train_test_split(\n",
    "    df[TRAIN_FEATURES].values, df[TEST_TARGET].values, test_size=0.2, random_state=42)"
   ]
  },
  {
   "cell_type": "code",
   "execution_count": 65,
   "id": "80e919a5-b9e6-4448-a835-085b3f17ef03",
   "metadata": {},
   "outputs": [
    {
     "data": {
      "text/html": [
       "<style>#sk-container-id-1 {color: black;}#sk-container-id-1 pre{padding: 0;}#sk-container-id-1 div.sk-toggleable {background-color: white;}#sk-container-id-1 label.sk-toggleable__label {cursor: pointer;display: block;width: 100%;margin-bottom: 0;padding: 0.3em;box-sizing: border-box;text-align: center;}#sk-container-id-1 label.sk-toggleable__label-arrow:before {content: \"▸\";float: left;margin-right: 0.25em;color: #696969;}#sk-container-id-1 label.sk-toggleable__label-arrow:hover:before {color: black;}#sk-container-id-1 div.sk-estimator:hover label.sk-toggleable__label-arrow:before {color: black;}#sk-container-id-1 div.sk-toggleable__content {max-height: 0;max-width: 0;overflow: hidden;text-align: left;background-color: #f0f8ff;}#sk-container-id-1 div.sk-toggleable__content pre {margin: 0.2em;color: black;border-radius: 0.25em;background-color: #f0f8ff;}#sk-container-id-1 input.sk-toggleable__control:checked~div.sk-toggleable__content {max-height: 200px;max-width: 100%;overflow: auto;}#sk-container-id-1 input.sk-toggleable__control:checked~label.sk-toggleable__label-arrow:before {content: \"▾\";}#sk-container-id-1 div.sk-estimator input.sk-toggleable__control:checked~label.sk-toggleable__label {background-color: #d4ebff;}#sk-container-id-1 div.sk-label input.sk-toggleable__control:checked~label.sk-toggleable__label {background-color: #d4ebff;}#sk-container-id-1 input.sk-hidden--visually {border: 0;clip: rect(1px 1px 1px 1px);clip: rect(1px, 1px, 1px, 1px);height: 1px;margin: -1px;overflow: hidden;padding: 0;position: absolute;width: 1px;}#sk-container-id-1 div.sk-estimator {font-family: monospace;background-color: #f0f8ff;border: 1px dotted black;border-radius: 0.25em;box-sizing: border-box;margin-bottom: 0.5em;}#sk-container-id-1 div.sk-estimator:hover {background-color: #d4ebff;}#sk-container-id-1 div.sk-parallel-item::after {content: \"\";width: 100%;border-bottom: 1px solid gray;flex-grow: 1;}#sk-container-id-1 div.sk-label:hover label.sk-toggleable__label {background-color: #d4ebff;}#sk-container-id-1 div.sk-serial::before {content: \"\";position: absolute;border-left: 1px solid gray;box-sizing: border-box;top: 0;bottom: 0;left: 50%;z-index: 0;}#sk-container-id-1 div.sk-serial {display: flex;flex-direction: column;align-items: center;background-color: white;padding-right: 0.2em;padding-left: 0.2em;position: relative;}#sk-container-id-1 div.sk-item {position: relative;z-index: 1;}#sk-container-id-1 div.sk-parallel {display: flex;align-items: stretch;justify-content: center;background-color: white;position: relative;}#sk-container-id-1 div.sk-item::before, #sk-container-id-1 div.sk-parallel-item::before {content: \"\";position: absolute;border-left: 1px solid gray;box-sizing: border-box;top: 0;bottom: 0;left: 50%;z-index: -1;}#sk-container-id-1 div.sk-parallel-item {display: flex;flex-direction: column;z-index: 1;position: relative;background-color: white;}#sk-container-id-1 div.sk-parallel-item:first-child::after {align-self: flex-end;width: 50%;}#sk-container-id-1 div.sk-parallel-item:last-child::after {align-self: flex-start;width: 50%;}#sk-container-id-1 div.sk-parallel-item:only-child::after {width: 0;}#sk-container-id-1 div.sk-dashed-wrapped {border: 1px dashed gray;margin: 0 0.4em 0.5em 0.4em;box-sizing: border-box;padding-bottom: 0.4em;background-color: white;}#sk-container-id-1 div.sk-label label {font-family: monospace;font-weight: bold;display: inline-block;line-height: 1.2em;}#sk-container-id-1 div.sk-label-container {text-align: center;}#sk-container-id-1 div.sk-container {/* jupyter's `normalize.less` sets `[hidden] { display: none; }` but bootstrap.min.css set `[hidden] { display: none !important; }` so we also need the `!important` here to be able to override the default hidden behavior on the sphinx rendered scikit-learn.org. See: https://github.com/scikit-learn/scikit-learn/issues/21755 */display: inline-block !important;position: relative;}#sk-container-id-1 div.sk-text-repr-fallback {display: none;}</style><div id=\"sk-container-id-1\" class=\"sk-top-container\"><div class=\"sk-text-repr-fallback\"><pre>XGBRegressor(base_score=None, booster=None, callbacks=None,\n",
       "             colsample_bylevel=None, colsample_bynode=None, colsample_bytree=1,\n",
       "             device=&#x27;cuda&#x27;, early_stopping_rounds=None, enable_categorical=True,\n",
       "             eval_metric=&#x27;mae&#x27;, feature_types=None, gamma=None,\n",
       "             grow_policy=None, importance_type=None,\n",
       "             interaction_constraints=None, learning_rate=0.02, max_bin=None,\n",
       "             max_cat_threshold=None, max_cat_to_onehot=None,\n",
       "             max_delta_step=None, max_depth=20, max_leaves=None,\n",
       "             min_child_weight=None, missing=nan, monotone_constraints=None,\n",
       "             multi_strategy=None, n_estimators=450, n_jobs=None,\n",
       "             num_parallel_tree=None, objective=&#x27;reg:absoluteerror&#x27;, ...)</pre><b>In a Jupyter environment, please rerun this cell to show the HTML representation or trust the notebook. <br />On GitHub, the HTML representation is unable to render, please try loading this page with nbviewer.org.</b></div><div class=\"sk-container\" hidden><div class=\"sk-item\"><div class=\"sk-estimator sk-toggleable\"><input class=\"sk-toggleable__control sk-hidden--visually\" id=\"sk-estimator-id-1\" type=\"checkbox\" checked><label for=\"sk-estimator-id-1\" class=\"sk-toggleable__label sk-toggleable__label-arrow\">XGBRegressor</label><div class=\"sk-toggleable__content\"><pre>XGBRegressor(base_score=None, booster=None, callbacks=None,\n",
       "             colsample_bylevel=None, colsample_bynode=None, colsample_bytree=1,\n",
       "             device=&#x27;cuda&#x27;, early_stopping_rounds=None, enable_categorical=True,\n",
       "             eval_metric=&#x27;mae&#x27;, feature_types=None, gamma=None,\n",
       "             grow_policy=None, importance_type=None,\n",
       "             interaction_constraints=None, learning_rate=0.02, max_bin=None,\n",
       "             max_cat_threshold=None, max_cat_to_onehot=None,\n",
       "             max_delta_step=None, max_depth=20, max_leaves=None,\n",
       "             min_child_weight=None, missing=nan, monotone_constraints=None,\n",
       "             multi_strategy=None, n_estimators=450, n_jobs=None,\n",
       "             num_parallel_tree=None, objective=&#x27;reg:absoluteerror&#x27;, ...)</pre></div></div></div></div></div>"
      ],
      "text/plain": [
       "XGBRegressor(base_score=None, booster=None, callbacks=None,\n",
       "             colsample_bylevel=None, colsample_bynode=None, colsample_bytree=1,\n",
       "             device='cuda', early_stopping_rounds=None, enable_categorical=True,\n",
       "             eval_metric='mae', feature_types=None, gamma=None,\n",
       "             grow_policy=None, importance_type=None,\n",
       "             interaction_constraints=None, learning_rate=0.02, max_bin=None,\n",
       "             max_cat_threshold=None, max_cat_to_onehot=None,\n",
       "             max_delta_step=None, max_depth=20, max_leaves=None,\n",
       "             min_child_weight=None, missing=nan, monotone_constraints=None,\n",
       "             multi_strategy=None, n_estimators=450, n_jobs=None,\n",
       "             num_parallel_tree=None, objective='reg:absoluteerror', ...)"
      ]
     },
     "execution_count": 65,
     "metadata": {},
     "output_type": "execute_result"
    }
   ],
   "source": [
    "model = xgb.XGBRegressor(\n",
    "    device=\"cuda\", #? device: This parameter specifies whether to use CPU or GPU for computation. In this case, it is set to \"cuda\", which means that the GPU will be used.\n",
    "    \n",
    "    tree_method=\"approx\",\n",
    "    objective='reg:absoluteerror',#? This parameter specifies the loss function to be minimized. In this case, it is set to 'reg:absoluteerror', which means that the model will minimize the mean absolute error.\n",
    "    eval_metric='mae', #? mean absolute error will be used as the evaluation metric.\n",
    "    enable_categorical=True,\n",
    "    learning_rate=0.02,\n",
    "# max_depth is an optional parameter that shows the maximum depth of each decision tree.\n",
    "    max_depth=20,\n",
    "# learning_rate is an optional parameter where the step size shrinkage prevents overfitting.\n",
    "# subsample is an optional parameter representing the fraction of samples used for each tree.\n",
    "    subsample=1,\n",
    "# colsample_bytree is an optional parameter representing the fraction of features used for each tree.\n",
    "    colsample_bytree=1,\n",
    "# n_estimators is a required parameter that determines the number of boosting iterations and controls the overall complexity of the model.\n",
    "    n_estimators=450,\n",
    "    random_state=42,\n",
    ")\n",
    "\n",
    "#Training the model on the training data\n",
    "model.fit(X_train, y_train)"
   ]
  },
  {
   "cell_type": "code",
   "execution_count": 97,
   "id": "6a38fdbd-34b7-4692-852d-e1f618455a8d",
   "metadata": {},
   "outputs": [
    {
     "data": {
      "text/plain": [
       "(1, 7)"
      ]
     },
     "execution_count": 97,
     "metadata": {},
     "output_type": "execute_result"
    }
   ],
   "source": [
    "test_values.shape"
   ]
  },
  {
   "cell_type": "code",
   "execution_count": 98,
   "id": "d43e4246-ccf7-457f-a915-3aac5b20e8f7",
   "metadata": {},
   "outputs": [],
   "source": [
    "test_values=np.array([[1,2,3,4,5,6,7]])\n",
    "test_values.reshape((1,7))\n",
    "predictions = model.predict(test_values)"
   ]
  },
  {
   "cell_type": "code",
   "execution_count": 99,
   "id": "33c312d6-fdad-46b0-bddc-be0b0420f6e0",
   "metadata": {},
   "outputs": [
    {
     "name": "stdout",
     "output_type": "stream",
     "text": [
      "[266445.7]\n"
     ]
    }
   ],
   "source": [
    "print(predictions)"
   ]
  },
  {
   "cell_type": "code",
   "execution_count": null,
   "id": "4540db52-ced2-4a1d-9d9c-592e58788ee7",
   "metadata": {},
   "outputs": [],
   "source": []
  },
  {
   "cell_type": "code",
   "execution_count": 77,
   "id": "eb746887-2fee-4511-93d9-c6b6b63a9425",
   "metadata": {},
   "outputs": [
    {
     "data": {
      "text/plain": [
       "(292,)"
      ]
     },
     "execution_count": 77,
     "metadata": {},
     "output_type": "execute_result"
    }
   ],
   "source": [
    "predictions.shape"
   ]
  },
  {
   "cell_type": "code",
   "execution_count": 73,
   "id": "66754306-45db-412f-af48-8659aaf6684f",
   "metadata": {},
   "outputs": [
    {
     "data": {
      "text/plain": [
       "(292, 7)"
      ]
     },
     "execution_count": 73,
     "metadata": {},
     "output_type": "execute_result"
    }
   ],
   "source": [
    "X_valid.shape"
   ]
  }
 ],
 "metadata": {
  "kernelspec": {
   "display_name": "Python 3 (ipykernel)",
   "language": "python",
   "name": "python3"
  },
  "language_info": {
   "codemirror_mode": {
    "name": "ipython",
    "version": 3
   },
   "file_extension": ".py",
   "mimetype": "text/x-python",
   "name": "python",
   "nbconvert_exporter": "python",
   "pygments_lexer": "ipython3",
   "version": "3.10.13"
  }
 },
 "nbformat": 4,
 "nbformat_minor": 5
}
